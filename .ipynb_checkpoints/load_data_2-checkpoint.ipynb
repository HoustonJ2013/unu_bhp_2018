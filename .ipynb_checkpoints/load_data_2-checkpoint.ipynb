{
 "cells": [
  {
   "cell_type": "code",
   "execution_count": 1,
   "metadata": {},
   "outputs": [
    {
     "name": "stderr",
     "output_type": "stream",
     "text": [
      "D:\\DProgramFiles\\python3Anaconda\\lib\\site-packages\\sklearn\\cross_validation.py:41: DeprecationWarning: This module was deprecated in version 0.18 in favor of the model_selection module into which all the refactored classes and functions are moved. Also note that the interface of the new CV iterators are different from that of this module. This module will be removed in 0.20.\n",
      "  \"This module will be removed in 0.20.\", DeprecationWarning)\n"
     ]
    }
   ],
   "source": [
    "from numpy import loadtxt\n",
    "import numpy as np\n",
    "import pandas as pd\n",
    "from xgboost import XGBClassifier\n",
    "from xgboost import XGBRegressor\n",
    "from sklearn.model_selection import train_test_split\n",
    "from sklearn.metrics import accuracy_score #not used?\n",
    "from sklearn.metrics import mean_squared_error \n",
    "from sklearn.preprocessing import MinMaxScaler\n",
    "import datetime\n",
    "import os\n",
    "import matplotlib.pylab as plt\n",
    "import time\n",
    "\n",
    "\n",
    "%matplotlib inline"
   ]
  },
  {
   "cell_type": "code",
   "execution_count": 3,
   "metadata": {
    "collapsed": true
   },
   "outputs": [],
   "source": [
    "OUTPUT_DATA_DIR = \"D:/2017_working/unearthed/digital_tribes_Houston/output/\"\n",
    "\n",
    "\n",
    "INPUT_DATA_DIR = \"D:/2017_working/unearthed/digital_tribes_Houston/\"\n",
    "input_file1 = \"Hackathon_DataSet_OctApr_Part1.txt\"\n",
    "input_file2 = \"Hackathon_DataSet_OctApr_Part2.txt\""
   ]
  },
  {
   "cell_type": "code",
   "execution_count": 27,
   "metadata": {},
   "outputs": [],
   "source": [
    "df1 = pd.read_table(INPUT_DATA_DIR+input_file1, sep='\\t', header=0)"
   ]
  },
  {
   "cell_type": "code",
   "execution_count": 28,
   "metadata": {},
   "outputs": [
    {
     "name": "stdout",
     "output_type": "stream",
     "text": [
      "<class 'pandas.core.frame.DataFrame'> (469441, 51)\n"
     ]
    }
   ],
   "source": [
    "print (type(df1), df1.shape)"
   ]
  },
  {
   "cell_type": "code",
   "execution_count": 29,
   "metadata": {},
   "outputs": [
    {
     "data": {
      "text/html": [
       "<div>\n",
       "<style scoped>\n",
       "    .dataframe tbody tr th:only-of-type {\n",
       "        vertical-align: middle;\n",
       "    }\n",
       "\n",
       "    .dataframe tbody tr th {\n",
       "        vertical-align: top;\n",
       "    }\n",
       "\n",
       "    .dataframe thead th {\n",
       "        text-align: right;\n",
       "    }\n",
       "</style>\n",
       "<table border=\"1\" class=\"dataframe\">\n",
       "  <thead>\n",
       "    <tr style=\"text-align: right;\">\n",
       "      <th></th>\n",
       "      <th>Id</th>\n",
       "      <th>hackathon4</th>\n",
       "      <th>TimeStamp</th>\n",
       "      <th>21-FQI-10518-01.NetRate.PV (BPD)</th>\n",
       "      <th>21-FT-40518-03_Density_(Coriolis) (g/cc)</th>\n",
       "      <th>21-FT-40518-03_Gross_Volume_Flow_Rate_(Coriolis) (bbl/d)</th>\n",
       "      <th>21-HY-10535.OUT_Flowline_Lchr/Rcvr_To_Prod_Sep (%)</th>\n",
       "      <th>21-HY-40534.OUT_Test_Separator_Inlet (%)</th>\n",
       "      <th>21-LIC-10516.SP_Prod_Sep_Oil_Out_To_2nd_Stg_Sep (%)</th>\n",
       "      <th>21-LIC-10620.CV_2nd_Stg_Hydrocyclone_Wtr_Out (%)</th>\n",
       "      <th>...</th>\n",
       "      <th>30-PDT-19104-01.PV_2nd_Stg_Hydrocyclone_Out_To_Drn (PSID)</th>\n",
       "      <th>30-PDT-19104-02.PV_2nd_Stg_Hydrocyclone_To_Skimmer (PSID)</th>\n",
       "      <th>30-PDT-19104.PV_2nd_Stg_Hydrocyclone_Out_To_Drn_Diff_Press_Ratio (PSID)</th>\n",
       "      <th>30-PDY-19104.OUT_2nd_Stg_Prod_Hydrocyclone_Out (%)</th>\n",
       "      <th>30-PT-69503.PV_Flotation_Cell (PSIG)</th>\n",
       "      <th>30-PT-69512.PV (psig)</th>\n",
       "      <th>30-PY-69503.OUT_Flotation_Cell_Out_To_LP_Flare (%)</th>\n",
       "      <th>37-PT-62301.PV_Closed_Smp_Tk_Pmp_Disch_To_Sep (PSIG)</th>\n",
       "      <th>PIIntTSTicks</th>\n",
       "      <th>PIIntShapeID</th>\n",
       "    </tr>\n",
       "  </thead>\n",
       "  <tbody>\n",
       "    <tr>\n",
       "      <th>0</th>\n",
       "      <td>1</td>\n",
       "      <td>hackathon4</td>\n",
       "      <td>10/20/2016 12:00:00 AM</td>\n",
       "      <td>11546.126953</td>\n",
       "      <td>0.840992</td>\n",
       "      <td>39545.699219</td>\n",
       "      <td>30.5</td>\n",
       "      <td>100.0</td>\n",
       "      <td>30.0</td>\n",
       "      <td>0.0</td>\n",
       "      <td>...</td>\n",
       "      <td>9.768112</td>\n",
       "      <td>9.703619</td>\n",
       "      <td>0.965848</td>\n",
       "      <td>42.564075</td>\n",
       "      <td>3.296184</td>\n",
       "      <td>2.667331</td>\n",
       "      <td>0.0</td>\n",
       "      <td>-1.208175</td>\n",
       "      <td>636125364000000000</td>\n",
       "      <td>0</td>\n",
       "    </tr>\n",
       "    <tr>\n",
       "      <th>1</th>\n",
       "      <td>2</td>\n",
       "      <td>hackathon4</td>\n",
       "      <td>10/20/2016 12:00:30 AM</td>\n",
       "      <td>12254.705078</td>\n",
       "      <td>0.840978</td>\n",
       "      <td>38541.804688</td>\n",
       "      <td>30.5</td>\n",
       "      <td>100.0</td>\n",
       "      <td>30.0</td>\n",
       "      <td>0.0</td>\n",
       "      <td>...</td>\n",
       "      <td>9.773479</td>\n",
       "      <td>9.755747</td>\n",
       "      <td>0.965457</td>\n",
       "      <td>42.561581</td>\n",
       "      <td>3.255860</td>\n",
       "      <td>2.631529</td>\n",
       "      <td>0.0</td>\n",
       "      <td>-0.869427</td>\n",
       "      <td>636125364300000000</td>\n",
       "      <td>0</td>\n",
       "    </tr>\n",
       "  </tbody>\n",
       "</table>\n",
       "<p>2 rows × 51 columns</p>\n",
       "</div>"
      ],
      "text/plain": [
       "   Id  hackathon4               TimeStamp  21-FQI-10518-01.NetRate.PV (BPD)  \\\n",
       "0   1  hackathon4  10/20/2016 12:00:00 AM                      11546.126953   \n",
       "1   2  hackathon4  10/20/2016 12:00:30 AM                      12254.705078   \n",
       "\n",
       "   21-FT-40518-03_Density_(Coriolis) (g/cc)  \\\n",
       "0                                  0.840992   \n",
       "1                                  0.840978   \n",
       "\n",
       "   21-FT-40518-03_Gross_Volume_Flow_Rate_(Coriolis) (bbl/d)  \\\n",
       "0                                       39545.699219          \n",
       "1                                       38541.804688          \n",
       "\n",
       "   21-HY-10535.OUT_Flowline_Lchr/Rcvr_To_Prod_Sep (%)  \\\n",
       "0                                               30.5    \n",
       "1                                               30.5    \n",
       "\n",
       "   21-HY-40534.OUT_Test_Separator_Inlet (%)  \\\n",
       "0                                     100.0   \n",
       "1                                     100.0   \n",
       "\n",
       "   21-LIC-10516.SP_Prod_Sep_Oil_Out_To_2nd_Stg_Sep (%)  \\\n",
       "0                                               30.0     \n",
       "1                                               30.0     \n",
       "\n",
       "   21-LIC-10620.CV_2nd_Stg_Hydrocyclone_Wtr_Out (%)      ...       \\\n",
       "0                                               0.0      ...        \n",
       "1                                               0.0      ...        \n",
       "\n",
       "   30-PDT-19104-01.PV_2nd_Stg_Hydrocyclone_Out_To_Drn (PSID)  \\\n",
       "0                                           9.768112           \n",
       "1                                           9.773479           \n",
       "\n",
       "   30-PDT-19104-02.PV_2nd_Stg_Hydrocyclone_To_Skimmer (PSID)  \\\n",
       "0                                           9.703619           \n",
       "1                                           9.755747           \n",
       "\n",
       "   30-PDT-19104.PV_2nd_Stg_Hydrocyclone_Out_To_Drn_Diff_Press_Ratio (PSID)  \\\n",
       "0                                           0.965848                         \n",
       "1                                           0.965457                         \n",
       "\n",
       "   30-PDY-19104.OUT_2nd_Stg_Prod_Hydrocyclone_Out (%)  \\\n",
       "0                                          42.564075    \n",
       "1                                          42.561581    \n",
       "\n",
       "   30-PT-69503.PV_Flotation_Cell (PSIG)  30-PT-69512.PV (psig)  \\\n",
       "0                              3.296184               2.667331   \n",
       "1                              3.255860               2.631529   \n",
       "\n",
       "   30-PY-69503.OUT_Flotation_Cell_Out_To_LP_Flare (%)  \\\n",
       "0                                                0.0    \n",
       "1                                                0.0    \n",
       "\n",
       "   37-PT-62301.PV_Closed_Smp_Tk_Pmp_Disch_To_Sep (PSIG)        PIIntTSTicks  \\\n",
       "0                                          -1.208175     636125364000000000   \n",
       "1                                          -0.869427     636125364300000000   \n",
       "\n",
       "   PIIntShapeID  \n",
       "0             0  \n",
       "1             0  \n",
       "\n",
       "[2 rows x 51 columns]"
      ]
     },
     "execution_count": 29,
     "metadata": {},
     "output_type": "execute_result"
    }
   ],
   "source": [
    "df1.head(2)"
   ]
  },
  {
   "cell_type": "code",
   "execution_count": 36,
   "metadata": {},
   "outputs": [],
   "source": [
    "#drop useless columns\n",
    "df1.drop(labels=['Id', 'hackathon4'], axis=1, inplace=True)\n"
   ]
  },
  {
   "cell_type": "code",
   "execution_count": 37,
   "metadata": {},
   "outputs": [
    {
     "data": {
      "text/plain": [
       "['TimeStamp',\n",
       " '21-FQI-10518-01.NetRate.PV (BPD)',\n",
       " '21-FT-40518-03_Density_(Coriolis) (g/cc)',\n",
       " '21-FT-40518-03_Gross_Volume_Flow_Rate_(Coriolis) (bbl/d)',\n",
       " '21-HY-10535.OUT_Flowline_Lchr/Rcvr_To_Prod_Sep (%)',\n",
       " '21-HY-40534.OUT_Test_Separator_Inlet (%)',\n",
       " '21-LIC-10516.SP_Prod_Sep_Oil_Out_To_2nd_Stg_Sep (%)',\n",
       " '21-LIC-10620.CV_2nd_Stg_Hydrocyclone_Wtr_Out (%)',\n",
       " '21-LIC-10620.SP_2nd_Stg_Hydrocyclone_Wtr_Out (%)',\n",
       " '21-LIC-40516.SP_Test_Allocation_Sep_Interface (%)',\n",
       " '21-LT-10515.PV_Prod_Sep_Oil_Interface_Level (%)',\n",
       " '21-LT-10516.PV_Prod_Sep_Oil_Interface_Level (%)',\n",
       " '21-LT-10618.PV_Prod_Sep_2nd_Stg_Interface (%)',\n",
       " '21-LT-10620.PV_Prod_Sep_2nd_Stg_Interface (%)',\n",
       " '21-LT-40515.PV_Test_Allocation_Sep_Interface (%)',\n",
       " '21-LT-40516.PV_Test_Allocation_Sep_Interface (%)',\n",
       " '21-LY-10516.OUT_Prod_Sep_Oil_Out_To_2nd_Stg_Sep (%)',\n",
       " '21-LY-10616.OUT_Prod_Sep_2nd_Stg_Fluid_To_Exch (%)',\n",
       " '21-LY-10620.OUT_2nd_Stg_Hydrocyclone_Wtr_Out (%)',\n",
       " '21-LY-11516.OUT_Train_1_Treater_Wtr_Interface_Level (%)',\n",
       " '21-LY-40516.OUT (%)',\n",
       " '21-PT-10505.PV_Production_Separator (PSIG)',\n",
       " '21-PT-10605.PV_Prod_Sep_2nd_Stg (PSIG)',\n",
       " '21-PT-40505.PV_Test_Allocation_Separator (PSIG)',\n",
       " '21-TT-10508.PV_Prod_Sep_Gas_Out_To_Flash_Clr (Deg.F)',\n",
       " '21-TT-10608.PV_Prod_Sep_2nd_Stg_Gas_Out (Deg.F)',\n",
       " '21-TT-11616.PV_Crude_Oil_Trim_Heat_Outlet (Deg.F)',\n",
       " '30-FT-19107-01.PV_2nd_Stg_Hydrocyclone_Inlet (BPD)',\n",
       " '30-FT-19108.PV ( )',\n",
       " '30-FT-29108.PV (BPD)',\n",
       " '30-FT-69521-01.PV_Flotation_Cell_Prod_Wtr_To_Ovbrd (BPD)',\n",
       " '30-LIC-69516.CV_Flotation_Cell_Out_To_Drn (%)',\n",
       " '30-LIC-69518.CV_Flotation_Cell_Prod_Wtr_To_Ovbrd (%)',\n",
       " '30-LT-69514.PV_Flotation_Cell (%)',\n",
       " '30-LT-69515.PV_Flotation_Cell (%)',\n",
       " '30-LT-69516.PV_Flotation_Cell (%)',\n",
       " '30-LT-69518.PV_Flotation_Cell (%)',\n",
       " '30-LY-69518.OUT_Flotation_Cell_Prod_Wtr_To_Ovbrd (%)',\n",
       " '30-PDIC-19104.SP_2nd_Stg_Prod_Hydrocyclone_Out ( )',\n",
       " '30-PDT-19104-01.PV_2nd_Stg_Hydrocyclone_Out_To_Drn (PSID)',\n",
       " '30-PDT-19104-02.PV_2nd_Stg_Hydrocyclone_To_Skimmer (PSID)',\n",
       " '30-PDT-19104.PV_2nd_Stg_Hydrocyclone_Out_To_Drn_Diff_Press_Ratio (PSID)',\n",
       " '30-PDY-19104.OUT_2nd_Stg_Prod_Hydrocyclone_Out (%)',\n",
       " '30-PT-69503.PV_Flotation_Cell (PSIG)',\n",
       " '30-PT-69512.PV (psig)',\n",
       " '30-PY-69503.OUT_Flotation_Cell_Out_To_LP_Flare (%)',\n",
       " '37-PT-62301.PV_Closed_Smp_Tk_Pmp_Disch_To_Sep (PSIG)',\n",
       " 'PIIntTSTicks',\n",
       " 'PIIntShapeID']"
      ]
     },
     "execution_count": 37,
     "metadata": {},
     "output_type": "execute_result"
    }
   ],
   "source": [
    "colnames = list(df1)\n",
    "colnames"
   ]
  },
  {
   "cell_type": "code",
   "execution_count": 39,
   "metadata": {},
   "outputs": [
    {
     "name": "stdout",
     "output_type": "stream",
     "text": [
      "null_count:\n",
      " TimeStamp                                                                  0\n",
      "21-FQI-10518-01.NetRate.PV (BPD)                                           0\n",
      "21-FT-40518-03_Density_(Coriolis) (g/cc)                                   0\n",
      "21-FT-40518-03_Gross_Volume_Flow_Rate_(Coriolis) (bbl/d)                   0\n",
      "21-HY-10535.OUT_Flowline_Lchr/Rcvr_To_Prod_Sep (%)                         0\n",
      "21-HY-40534.OUT_Test_Separator_Inlet (%)                                   0\n",
      "21-LIC-10516.SP_Prod_Sep_Oil_Out_To_2nd_Stg_Sep (%)                        0\n",
      "21-LIC-10620.CV_2nd_Stg_Hydrocyclone_Wtr_Out (%)                           0\n",
      "21-LIC-10620.SP_2nd_Stg_Hydrocyclone_Wtr_Out (%)                           0\n",
      "21-LIC-40516.SP_Test_Allocation_Sep_Interface (%)                          0\n",
      "21-LT-10515.PV_Prod_Sep_Oil_Interface_Level (%)                            0\n",
      "21-LT-10516.PV_Prod_Sep_Oil_Interface_Level (%)                            0\n",
      "21-LT-10618.PV_Prod_Sep_2nd_Stg_Interface (%)                              0\n",
      "21-LT-10620.PV_Prod_Sep_2nd_Stg_Interface (%)                              0\n",
      "21-LT-40515.PV_Test_Allocation_Sep_Interface (%)                           0\n",
      "21-LT-40516.PV_Test_Allocation_Sep_Interface (%)                           0\n",
      "21-LY-10516.OUT_Prod_Sep_Oil_Out_To_2nd_Stg_Sep (%)                        0\n",
      "21-LY-10616.OUT_Prod_Sep_2nd_Stg_Fluid_To_Exch (%)                         0\n",
      "21-LY-10620.OUT_2nd_Stg_Hydrocyclone_Wtr_Out (%)                           0\n",
      "21-LY-11516.OUT_Train_1_Treater_Wtr_Interface_Level (%)                    0\n",
      "21-LY-40516.OUT (%)                                                        0\n",
      "21-PT-10505.PV_Production_Separator (PSIG)                                 0\n",
      "21-PT-10605.PV_Prod_Sep_2nd_Stg (PSIG)                                     0\n",
      "21-PT-40505.PV_Test_Allocation_Separator (PSIG)                            0\n",
      "21-TT-10508.PV_Prod_Sep_Gas_Out_To_Flash_Clr (Deg.F)                       0\n",
      "21-TT-10608.PV_Prod_Sep_2nd_Stg_Gas_Out (Deg.F)                            0\n",
      "21-TT-11616.PV_Crude_Oil_Trim_Heat_Outlet (Deg.F)                          0\n",
      "30-FT-19107-01.PV_2nd_Stg_Hydrocyclone_Inlet (BPD)                         0\n",
      "30-FT-19108.PV ( )                                                         0\n",
      "30-FT-29108.PV (BPD)                                                       0\n",
      "30-FT-69521-01.PV_Flotation_Cell_Prod_Wtr_To_Ovbrd (BPD)                   0\n",
      "30-LIC-69516.CV_Flotation_Cell_Out_To_Drn (%)                              0\n",
      "30-LIC-69518.CV_Flotation_Cell_Prod_Wtr_To_Ovbrd (%)                       0\n",
      "30-LT-69514.PV_Flotation_Cell (%)                                          0\n",
      "30-LT-69515.PV_Flotation_Cell (%)                                          0\n",
      "30-LT-69516.PV_Flotation_Cell (%)                                          0\n",
      "30-LT-69518.PV_Flotation_Cell (%)                                          0\n",
      "30-LY-69518.OUT_Flotation_Cell_Prod_Wtr_To_Ovbrd (%)                       0\n",
      "30-PDIC-19104.SP_2nd_Stg_Prod_Hydrocyclone_Out ( )                         0\n",
      "30-PDT-19104-01.PV_2nd_Stg_Hydrocyclone_Out_To_Drn (PSID)                  0\n",
      "30-PDT-19104-02.PV_2nd_Stg_Hydrocyclone_To_Skimmer (PSID)                  0\n",
      "30-PDT-19104.PV_2nd_Stg_Hydrocyclone_Out_To_Drn_Diff_Press_Ratio (PSID)    0\n",
      "30-PDY-19104.OUT_2nd_Stg_Prod_Hydrocyclone_Out (%)                         0\n",
      "30-PT-69503.PV_Flotation_Cell (PSIG)                                       0\n",
      "30-PT-69512.PV (psig)                                                      0\n",
      "30-PY-69503.OUT_Flotation_Cell_Out_To_LP_Flare (%)                         0\n",
      "37-PT-62301.PV_Closed_Smp_Tk_Pmp_Disch_To_Sep (PSIG)                       0\n",
      "PIIntTSTicks                                                               0\n",
      "PIIntShapeID                                                               0\n",
      "dtype: int64\n",
      "total nulls: 0\n"
     ]
    }
   ],
   "source": [
    "null_count = df1.isnull().sum()\n",
    "print (\"null_count:\\n\", null_count)\n",
    "print (\"total nulls:\", null_count.sum())\n"
   ]
  },
  {
   "cell_type": "code",
   "execution_count": null,
   "metadata": {
    "collapsed": true
   },
   "outputs": [],
   "source": []
  }
 ],
 "metadata": {
  "kernelspec": {
   "display_name": "Python 3",
   "language": "python",
   "name": "python3"
  },
  "language_info": {
   "codemirror_mode": {
    "name": "ipython",
    "version": 3
   },
   "file_extension": ".py",
   "mimetype": "text/x-python",
   "name": "python",
   "nbconvert_exporter": "python",
   "pygments_lexer": "ipython3",
   "version": "3.6.1"
  }
 },
 "nbformat": 4,
 "nbformat_minor": 2
}
