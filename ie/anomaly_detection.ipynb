{
 "cells": [
  {
   "cell_type": "code",
   "execution_count": 18,
   "metadata": {},
   "outputs": [
    {
     "name": "stdout",
     "output_type": "stream",
     "text": [
      "/home/aind2/workspace/unu_bhp_2018/data\n"
     ]
    }
   ],
   "source": [
    "## Read table, combine table, parse the time string, save to pkl\n",
    "## Visualize the excursion event\n",
    "import pandas as pd\n",
    "import matplotlib.pylab as plt\n",
    "from datetime import datetime\n",
    "import matplotlib.dates as mdates\n",
    "import numpy as np\n",
    "from scipy import signal\n",
    "from scipy.fftpack import fft, ifft\n",
    "from anomaly_detection import anomaly_detection\n",
    "pd.set_option('display.max_columns', 51)\n",
    "font = {'family' : 'normal',\n",
    "        'weight' : 'bold',\n",
    "        'size'   : 32}\n",
    "plt.rc('font', **font)\n",
    "import os \n",
    "dir_path = os.getcwd()\n",
    "data_dir = os.path.abspath(os.path.join(dir_path, '../data'))\n",
    "print (data_dir)\n",
    "combined_pkl = os.path.join(data_dir, \"combine.pkl\")\n",
    "combined_pkg_tbl = os.path.join(data_dir, 'combine_table.pkl')\n",
    "part1_pkl = os.path.join(data_dir, \"Part1.pkl\")\n",
    "part2_pkl = os.path.join(data_dir, \"Part2.pkl\")\n",
    "%matplotlib inline"
   ]
  },
  {
   "cell_type": "code",
   "execution_count": 5,
   "metadata": {},
   "outputs": [
    {
     "name": "stdout",
     "output_type": "stream",
     "text": [
      "<class 'pandas.core.frame.DataFrame'>\n",
      "Int64Index: 469681 entries, 0 to 469680\n",
      "Data columns (total 89 columns):\n",
      "hackathon4_x                                                               469681 non-null object\n",
      "TimeStamp                                                                  469681 non-null datetime64[ns]\n",
      "05-PT-28201-01_B2_Manifold_Pressure (Psi)                                  469681 non-null float64\n",
      "05-PT-28201-03_B2_Manifold_Pressure (Psi)                                  469681 non-null float64\n",
      "05-PT-29101-02_C1_Manifold_Pressure (Psi)                                  469681 non-null float64\n",
      "05-PT-29101-03_C1_Manifold_Pressure (Psi)                                  469681 non-null float64\n",
      "05-PT-33101-02_G1_Manifold_Pressure (Psi)                                  469681 non-null float64\n",
      "05-PT-33101-03_G1_Manifold_Pressure (Psi)                                  469681 non-null float64\n",
      "05-PT-34101-01_H1_Manifold_Pressure (Psi)                                  469681 non-null float64\n",
      "05-PT-34101-04_H1_Manifold_Pressure (Psi)                                  469681 non-null float64\n",
      "05-TT-28201-01_B2_Manifold_Temperature (DegF)                              469681 non-null float64\n",
      "05-TT-28201-03_B2_Manifold_Temperature (DegF)                              469681 non-null float64\n",
      "05-TT-29101-02_C1_Manifold_Temperature (DegF)                              469681 non-null float64\n",
      "05-TT-29101-03_C1_Manifold_Temperature (DegF)                              469681 non-null float64\n",
      "05-TT-33101-02_G1_Manifold_Temperature (DegF)                              469681 non-null float64\n",
      "05-TT-33101-03_G1_Manifold_Temperature (DegF)                              469681 non-null float64\n",
      "05-TT-34101-01_H1_Manifold_Temperature (DegF)                              469681 non-null float64\n",
      "05-TT-34101-04_H1_Manifold_Temperature (DegF)                              469681 non-null float64\n",
      "20-HX-10003.Status_Flowline_From_Drill_Center_C ( )                        469681 non-null object\n",
      "20-HX-10004.Status_Flowline_From_Drill_Center_C ( )                        469681 non-null object\n",
      "20-HX-20003.Status_Flowline_From_Drill_Centers_B&G ( )                     469681 non-null object\n",
      "20-HX-20004.Status_Flowline_From_Drill_Centers_B&G ( )                     469681 non-null object\n",
      "20-PIC-10114.PV_P2_Subsea_Flowline_Eq_Choke_%_Open (PSIG)                  469681 non-null float64\n",
      "20-PIC-10214.PV_P1_Subsea_Flowline_Eq_Choke_%_Open (PSIG)                  469681 non-null float64\n",
      "20-PT-10007-01.PV_Flowline_From_Drill_Center_C (PSIG)                      469681 non-null float64\n",
      "20-PT-10008-01.PV_Flowline_From_Drill_Center_C (PSIG)                      469681 non-null float64\n",
      "20-PT-20007-01.PV_Flowline_From_Drill_Centers_B&G (PSIG)                   469681 non-null float64\n",
      "20-PT-20008-01.PV_Flowline_From_Drill_Centers_B&G (PSIG)                   469681 non-null float64\n",
      "20-PT-20114.PV_Subsea_Flowline_Launcher (PSIG)                             469681 non-null float64\n",
      "20-PT-20214.PV_Subsea_Flowline_Receiver (PSIG)                             469681 non-null float64\n",
      "20-TT-10105.PV_Subsea_Flowline_To_Train_1 (Deg.F)                          469681 non-null float64\n",
      "20-TT-10205.PV_Subsea_Flowline_Test_Sep (Deg.F)                            469681 non-null float64\n",
      "20-TT-20105.PV_Train_2_Subsea_Flowline_Launcher (Deg.F)                    469681 non-null float64\n",
      "20-TT-20205.PV_Train_2_Subsea_Flowline_Receiver (Deg.F)                    469681 non-null float64\n",
      "20-ZT-10104.PV_To/From_Subsea_Flowline (%)                                 469681 non-null float64\n",
      "20-ZT-10204.PV_To/From_Subsea_Flowline (%)                                 469681 non-null float64\n",
      "20-ZT-20104.PV_Train_2_Subsea_Flowline_Launcher (%)                        469681 non-null float64\n",
      "20-ZT-20204.PV_Train_2_Subsea_Flowline_Receiver (%)                        469681 non-null float64\n",
      "PIIntTSTicks_x                                                             469681 non-null int64\n",
      "PIIntShapeID_x                                                             469681 non-null int64\n",
      "hackathon4_y                                                               469681 non-null object\n",
      "21-FQI-10518-01.NetRate.PV (BPD)                                           469681 non-null float64\n",
      "21-FT-40518-03_Density_(Coriolis) (g/cc)                                   469681 non-null float64\n",
      "21-FT-40518-03_Gross_Volume_Flow_Rate_(Coriolis) (bbl/d)                   469681 non-null float64\n",
      "21-HY-10535.OUT_Flowline_Lchr/Rcvr_To_Prod_Sep (%)                         469681 non-null float64\n",
      "21-HY-40534.OUT_Test_Separator_Inlet (%)                                   469681 non-null float64\n",
      "21-LIC-10516.SP_Prod_Sep_Oil_Out_To_2nd_Stg_Sep (%)                        469681 non-null float64\n",
      "21-LIC-10620.CV_2nd_Stg_Hydrocyclone_Wtr_Out (%)                           469681 non-null float64\n",
      "21-LIC-10620.SP_2nd_Stg_Hydrocyclone_Wtr_Out (%)                           469681 non-null float64\n",
      "21-LIC-40516.SP_Test_Allocation_Sep_Interface (%)                          469681 non-null float64\n",
      "21-LT-10515.PV_Prod_Sep_Oil_Interface_Level (%)                            469681 non-null float64\n",
      "21-LT-10516.PV_Prod_Sep_Oil_Interface_Level (%)                            469681 non-null float64\n",
      "21-LT-10618.PV_Prod_Sep_2nd_Stg_Interface (%)                              469681 non-null float64\n",
      "21-LT-10620.PV_Prod_Sep_2nd_Stg_Interface (%)                              469681 non-null float64\n",
      "21-LT-40515.PV_Test_Allocation_Sep_Interface (%)                           469681 non-null float64\n",
      "21-LT-40516.PV_Test_Allocation_Sep_Interface (%)                           469681 non-null float64\n",
      "21-LY-10516.OUT_Prod_Sep_Oil_Out_To_2nd_Stg_Sep (%)                        469681 non-null float64\n",
      "21-LY-10616.OUT_Prod_Sep_2nd_Stg_Fluid_To_Exch (%)                         469681 non-null float64\n",
      "21-LY-10620.OUT_2nd_Stg_Hydrocyclone_Wtr_Out (%)                           469681 non-null float64\n",
      "21-LY-11516.OUT_Train_1_Treater_Wtr_Interface_Level (%)                    469681 non-null float64\n",
      "21-LY-40516.OUT (%)                                                        469681 non-null float64\n",
      "21-PT-10505.PV_Production_Separator (PSIG)                                 469681 non-null float64\n",
      "21-PT-10605.PV_Prod_Sep_2nd_Stg (PSIG)                                     469681 non-null float64\n",
      "21-PT-40505.PV_Test_Allocation_Separator (PSIG)                            469681 non-null float64\n",
      "21-TT-10508.PV_Prod_Sep_Gas_Out_To_Flash_Clr (Deg.F)                       469681 non-null float64\n",
      "21-TT-10608.PV_Prod_Sep_2nd_Stg_Gas_Out (Deg.F)                            469681 non-null float64\n",
      "21-TT-11616.PV_Crude_Oil_Trim_Heat_Outlet (Deg.F)                          469681 non-null float64\n",
      "30-FT-19107-01.PV_2nd_Stg_Hydrocyclone_Inlet (BPD)                         469681 non-null float64\n",
      "30-FT-19108.PV ( )                                                         469681 non-null float64\n",
      "30-FT-29108.PV (BPD)                                                       469681 non-null float64\n",
      "30-FT-69521-01.PV_Flotation_Cell_Prod_Wtr_To_Ovbrd (BPD)                   469681 non-null float64\n",
      "30-LIC-69516.CV_Flotation_Cell_Out_To_Drn (%)                              469681 non-null float64\n",
      "30-LIC-69518.CV_Flotation_Cell_Prod_Wtr_To_Ovbrd (%)                       469681 non-null float64\n",
      "30-LT-69514.PV_Flotation_Cell (%)                                          469681 non-null float64\n",
      "30-LT-69515.PV_Flotation_Cell (%)                                          469681 non-null float64\n",
      "30-LT-69516.PV_Flotation_Cell (%)                                          469681 non-null float64\n",
      "30-LT-69518.PV_Flotation_Cell (%)                                          469681 non-null float64\n",
      "30-LY-69518.OUT_Flotation_Cell_Prod_Wtr_To_Ovbrd (%)                       469681 non-null float64\n",
      "30-PDIC-19104.SP_2nd_Stg_Prod_Hydrocyclone_Out ( )                         469681 non-null float64\n",
      "30-PDT-19104-01.PV_2nd_Stg_Hydrocyclone_Out_To_Drn (PSID)                  469681 non-null float64\n",
      "30-PDT-19104-02.PV_2nd_Stg_Hydrocyclone_To_Skimmer (PSID)                  469681 non-null float64\n",
      "30-PDT-19104.PV_2nd_Stg_Hydrocyclone_Out_To_Drn_Diff_Press_Ratio (PSID)    469681 non-null float64\n",
      "30-PDY-19104.OUT_2nd_Stg_Prod_Hydrocyclone_Out (%)                         469681 non-null float64\n",
      "30-PT-69503.PV_Flotation_Cell (PSIG)                                       469681 non-null float64\n",
      "30-PT-69512.PV (psig)                                                      469681 non-null float64\n",
      "30-PY-69503.OUT_Flotation_Cell_Out_To_LP_Flare (%)                         469681 non-null float64\n",
      "37-PT-62301.PV_Closed_Smp_Tk_Pmp_Disch_To_Sep (PSIG)                       469681 non-null float64\n",
      "PIIntTSTicks_y                                                             469681 non-null int64\n",
      "PIIntShapeID_y                                                             469681 non-null int64\n",
      "dtypes: datetime64[ns](1), float64(78), int64(4), object(6)\n",
      "memory usage: 322.5+ MB\n"
     ]
    }
   ],
   "source": [
    "file_df = pd.read_pickle(combined_pkl)\n",
    "\n",
    "file_df.info()"
   ]
  },
  {
   "cell_type": "code",
   "execution_count": 19,
   "metadata": {},
   "outputs": [
    {
     "ename": "NameError",
     "evalue": "name 'dir_path' is not defined",
     "output_type": "error",
     "traceback": [
      "\u001b[0;31m---------------------------------------------------------------------------\u001b[0m",
      "\u001b[0;31mNameError\u001b[0m                                 Traceback (most recent call last)",
      "\u001b[0;32m<ipython-input-19-bd1d9b960b0b>\u001b[0m in \u001b[0;36m<module>\u001b[0;34m()\u001b[0m\n\u001b[0;32m----> 1\u001b[0;31m \u001b[0;32mwith\u001b[0m \u001b[0manomaly_detection\u001b[0m\u001b[0;34m(\u001b[0m\u001b[0msequence_length\u001b[0m\u001b[0;34m=\u001b[0m\u001b[0;36m50\u001b[0m\u001b[0;34m,\u001b[0m \u001b[0mbatch_size\u001b[0m\u001b[0;34m=\u001b[0m\u001b[0;36m128\u001b[0m\u001b[0;34m,\u001b[0m \u001b[0mepochs\u001b[0m\u001b[0;34m=\u001b[0m\u001b[0;36m50\u001b[0m\u001b[0;34m,\u001b[0m \u001b[0mdropout\u001b[0m\u001b[0;34m=\u001b[0m\u001b[0;36m0.5\u001b[0m\u001b[0;34m)\u001b[0m \u001b[0;32mas\u001b[0m \u001b[0manomaly_detection\u001b[0m\u001b[0;34m:\u001b[0m\u001b[0;34m\u001b[0m\u001b[0m\n\u001b[0m\u001b[1;32m      2\u001b[0m     \u001b[0mstart\u001b[0m \u001b[0;34m=\u001b[0m \u001b[0mtime\u001b[0m\u001b[0;34m.\u001b[0m\u001b[0mtime\u001b[0m\u001b[0;34m(\u001b[0m\u001b[0;34m)\u001b[0m\u001b[0;34m\u001b[0m\u001b[0m\n\u001b[1;32m      3\u001b[0m     \u001b[0mstart_time\u001b[0m \u001b[0;34m=\u001b[0m \u001b[0mdatetime\u001b[0m\u001b[0;34m(\u001b[0m\u001b[0;36m2017\u001b[0m\u001b[0;34m,\u001b[0m \u001b[0;36m3\u001b[0m\u001b[0;34m,\u001b[0m \u001b[0;36m11\u001b[0m\u001b[0;34m,\u001b[0m\u001b[0;36m11\u001b[0m\u001b[0;34m,\u001b[0m\u001b[0;36m0\u001b[0m\u001b[0;34m)\u001b[0m\u001b[0;34m\u001b[0m\u001b[0m\n\u001b[1;32m      4\u001b[0m     \u001b[0mend_time\u001b[0m \u001b[0;34m=\u001b[0m \u001b[0mdatetime\u001b[0m\u001b[0;34m(\u001b[0m\u001b[0;36m2017\u001b[0m\u001b[0;34m,\u001b[0m \u001b[0;36m3\u001b[0m\u001b[0;34m,\u001b[0m \u001b[0;36m12\u001b[0m\u001b[0;34m,\u001b[0m \u001b[0;36m12\u001b[0m\u001b[0;34m,\u001b[0m\u001b[0;36m0\u001b[0m\u001b[0;34m)\u001b[0m\u001b[0;34m\u001b[0m\u001b[0m\n\u001b[1;32m      5\u001b[0m     \u001b[0mtime_range\u001b[0m\u001b[0;34m=\u001b[0m \u001b[0;34m(\u001b[0m\u001b[0mfile_df\u001b[0m\u001b[0;34m[\u001b[0m\u001b[0;34m\"TimeStamp\"\u001b[0m\u001b[0;34m]\u001b[0m \u001b[0;34m<\u001b[0m \u001b[0mend_time\u001b[0m\u001b[0;34m)\u001b[0m \u001b[0;34m&\u001b[0m \u001b[0;34m(\u001b[0m\u001b[0mfile_df\u001b[0m\u001b[0;34m[\u001b[0m\u001b[0;34m\"TimeStamp\"\u001b[0m\u001b[0;34m]\u001b[0m \u001b[0;34m>\u001b[0m \u001b[0mstart_time\u001b[0m\u001b[0;34m)\u001b[0m\u001b[0;34m\u001b[0m\u001b[0m\n",
      "\u001b[0;32m/home/aind2/workspace/unu_bhp_2018/ie/anomaly_detection.py\u001b[0m in \u001b[0;36m__init__\u001b[0;34m(self, sequence_length, batch_size, epochs, dropout)\u001b[0m\n\u001b[1;32m     26\u001b[0m         \u001b[0mself\u001b[0m\u001b[0;34m.\u001b[0m\u001b[0mepochs\u001b[0m \u001b[0;34m=\u001b[0m \u001b[0mepochs\u001b[0m\u001b[0;34m\u001b[0m\u001b[0m\n\u001b[1;32m     27\u001b[0m         \u001b[0mdir_path\u001b[0m \u001b[0;34m=\u001b[0m \u001b[0;34m\".\"\u001b[0m\u001b[0;34m\u001b[0m\u001b[0m\n\u001b[0;32m---> 28\u001b[0;31m         \u001b[0mself\u001b[0m\u001b[0;34m.\u001b[0m\u001b[0mdata_dir\u001b[0m \u001b[0;34m=\u001b[0m \u001b[0mos\u001b[0m\u001b[0;34m.\u001b[0m\u001b[0mpath\u001b[0m\u001b[0;34m.\u001b[0m\u001b[0mabspath\u001b[0m\u001b[0;34m(\u001b[0m\u001b[0mos\u001b[0m\u001b[0;34m.\u001b[0m\u001b[0mpath\u001b[0m\u001b[0;34m.\u001b[0m\u001b[0mjoin\u001b[0m\u001b[0;34m(\u001b[0m\u001b[0mdir_path\u001b[0m\u001b[0;34m,\u001b[0m \u001b[0;34m'../data'\u001b[0m\u001b[0;34m)\u001b[0m\u001b[0;34m)\u001b[0m\u001b[0;34m\u001b[0m\u001b[0m\n\u001b[0m\u001b[1;32m     29\u001b[0m         \u001b[0mself\u001b[0m\u001b[0;34m.\u001b[0m\u001b[0mbest_weights\u001b[0m \u001b[0;34m=\u001b[0m \u001b[0mos\u001b[0m\u001b[0;34m.\u001b[0m\u001b[0mpath\u001b[0m\u001b[0;34m.\u001b[0m\u001b[0mjoin\u001b[0m\u001b[0;34m(\u001b[0m\u001b[0mself\u001b[0m\u001b[0;34m.\u001b[0m\u001b[0mdata_dir\u001b[0m\u001b[0;34m,\u001b[0m \u001b[0;34m'weights.hdf5'\u001b[0m\u001b[0;34m)\u001b[0m\u001b[0;34m\u001b[0m\u001b[0m\n\u001b[1;32m     30\u001b[0m         \u001b[0mself\u001b[0m\u001b[0;34m.\u001b[0m\u001b[0mdropout\u001b[0m \u001b[0;34m=\u001b[0m \u001b[0mdropout\u001b[0m\u001b[0;34m\u001b[0m\u001b[0m\n",
      "\u001b[0;31mNameError\u001b[0m: name 'dir_path' is not defined"
     ]
    }
   ],
   "source": [
    "with anomaly_detection(sequence_length=50, batch_size=128, epochs=50, dropout=0.5) as anomaly_detection:\n",
    "    start = time.time()\n",
    "    start_time = datetime(2017, 3, 11,11,0)\n",
    "    end_time = datetime(2017, 3, 12, 12,0)\n",
    "    time_range= (file_df[\"TimeStamp\"] < end_time) & (file_df[\"TimeStamp\"] > start_time)\n",
    "    time_series = file_df[time_range][\"21-LT-10516.PV_Prod_Sep_Oil_Interface_Level (%)\"]\n",
    "    anomaly_detection.process_timeseries(time_series)\n"
   ]
  },
  {
   "cell_type": "code",
   "execution_count": null,
   "metadata": {
    "collapsed": true
   },
   "outputs": [],
   "source": []
  }
 ],
 "metadata": {
  "kernelspec": {
   "display_name": "Python 3",
   "language": "python",
   "name": "python3"
  },
  "language_info": {
   "codemirror_mode": {
    "name": "ipython",
    "version": 3
   },
   "file_extension": ".py",
   "mimetype": "text/x-python",
   "name": "python",
   "nbconvert_exporter": "python",
   "pygments_lexer": "ipython3",
   "version": "3.6.1"
  }
 },
 "nbformat": 4,
 "nbformat_minor": 2
}
