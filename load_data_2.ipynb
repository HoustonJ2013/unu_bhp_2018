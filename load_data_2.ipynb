{
 "cells": [
  {
   "cell_type": "code",
   "execution_count": 83,
   "metadata": {},
   "outputs": [],
   "source": [
    "from numpy import loadtxt\n",
    "import numpy as np\n",
    "import pandas as pd\n",
    "from xgboost import XGBClassifier\n",
    "from xgboost import XGBRegressor\n",
    "from sklearn.model_selection import train_test_split\n",
    "from sklearn.metrics import accuracy_score #not used?\n",
    "from sklearn.metrics import mean_squared_error \n",
    "from sklearn.preprocessing import MinMaxScaler\n",
    "import datetime\n",
    "import os\n",
    "import matplotlib.pyplot as plt\n",
    "from pylab import rcParams\n",
    "import time\n",
    "\n",
    "\n",
    "%matplotlib inline"
   ]
  },
  {
   "cell_type": "code",
   "execution_count": 2,
   "metadata": {
    "collapsed": true
   },
   "outputs": [],
   "source": [
    "OUTPUT_DATA_DIR = \"D:/2017_working/unearthed/digital_tribes_Houston/output/\"\n",
    "\n",
    "\n",
    "INPUT_DATA_DIR = \"D:/2017_working/unearthed/digital_tribes_Houston/\"\n",
    "input_file1 = \"Hackathon_DataSet_OctApr_Part1.txt\"\n",
    "input_file2 = \"Hackathon_DataSet_OctApr_Part2.txt\""
   ]
  },
  {
   "cell_type": "code",
   "execution_count": 3,
   "metadata": {
    "collapsed": true
   },
   "outputs": [],
   "source": [
    "df1 = pd.read_table(INPUT_DATA_DIR+input_file2, sep='\\t', header=0)"
   ]
  },
  {
   "cell_type": "code",
   "execution_count": 4,
   "metadata": {},
   "outputs": [
    {
     "name": "stdout",
     "output_type": "stream",
     "text": [
      "<class 'pandas.core.frame.DataFrame'> (469441, 51)\n"
     ]
    }
   ],
   "source": [
    "print (type(df1), df1.shape)"
   ]
  },
  {
   "cell_type": "code",
   "execution_count": 5,
   "metadata": {},
   "outputs": [
    {
     "data": {
      "text/html": [
       "<div>\n",
       "<style scoped>\n",
       "    .dataframe tbody tr th:only-of-type {\n",
       "        vertical-align: middle;\n",
       "    }\n",
       "\n",
       "    .dataframe tbody tr th {\n",
       "        vertical-align: top;\n",
       "    }\n",
       "\n",
       "    .dataframe thead th {\n",
       "        text-align: right;\n",
       "    }\n",
       "</style>\n",
       "<table border=\"1\" class=\"dataframe\">\n",
       "  <thead>\n",
       "    <tr style=\"text-align: right;\">\n",
       "      <th></th>\n",
       "      <th>Id</th>\n",
       "      <th>hackathon4</th>\n",
       "      <th>TimeStamp</th>\n",
       "      <th>21-FQI-10518-01.NetRate.PV (BPD)</th>\n",
       "      <th>21-FT-40518-03_Density_(Coriolis) (g/cc)</th>\n",
       "      <th>21-FT-40518-03_Gross_Volume_Flow_Rate_(Coriolis) (bbl/d)</th>\n",
       "      <th>21-HY-10535.OUT_Flowline_Lchr/Rcvr_To_Prod_Sep (%)</th>\n",
       "      <th>21-HY-40534.OUT_Test_Separator_Inlet (%)</th>\n",
       "      <th>21-LIC-10516.SP_Prod_Sep_Oil_Out_To_2nd_Stg_Sep (%)</th>\n",
       "      <th>21-LIC-10620.CV_2nd_Stg_Hydrocyclone_Wtr_Out (%)</th>\n",
       "      <th>...</th>\n",
       "      <th>30-PDT-19104-01.PV_2nd_Stg_Hydrocyclone_Out_To_Drn (PSID)</th>\n",
       "      <th>30-PDT-19104-02.PV_2nd_Stg_Hydrocyclone_To_Skimmer (PSID)</th>\n",
       "      <th>30-PDT-19104.PV_2nd_Stg_Hydrocyclone_Out_To_Drn_Diff_Press_Ratio (PSID)</th>\n",
       "      <th>30-PDY-19104.OUT_2nd_Stg_Prod_Hydrocyclone_Out (%)</th>\n",
       "      <th>30-PT-69503.PV_Flotation_Cell (PSIG)</th>\n",
       "      <th>30-PT-69512.PV (psig)</th>\n",
       "      <th>30-PY-69503.OUT_Flotation_Cell_Out_To_LP_Flare (%)</th>\n",
       "      <th>37-PT-62301.PV_Closed_Smp_Tk_Pmp_Disch_To_Sep (PSIG)</th>\n",
       "      <th>PIIntTSTicks</th>\n",
       "      <th>PIIntShapeID</th>\n",
       "    </tr>\n",
       "  </thead>\n",
       "  <tbody>\n",
       "    <tr>\n",
       "      <th>0</th>\n",
       "      <td>1</td>\n",
       "      <td>hackathon4</td>\n",
       "      <td>10/20/2016 12:00:00 AM</td>\n",
       "      <td>11546.126953</td>\n",
       "      <td>0.840992</td>\n",
       "      <td>39545.699219</td>\n",
       "      <td>30.5</td>\n",
       "      <td>100.0</td>\n",
       "      <td>30.0</td>\n",
       "      <td>0.0</td>\n",
       "      <td>...</td>\n",
       "      <td>9.768112</td>\n",
       "      <td>9.703619</td>\n",
       "      <td>0.965848</td>\n",
       "      <td>42.564075</td>\n",
       "      <td>3.296184</td>\n",
       "      <td>2.667331</td>\n",
       "      <td>0.0</td>\n",
       "      <td>-1.208175</td>\n",
       "      <td>636125364000000000</td>\n",
       "      <td>0</td>\n",
       "    </tr>\n",
       "    <tr>\n",
       "      <th>1</th>\n",
       "      <td>2</td>\n",
       "      <td>hackathon4</td>\n",
       "      <td>10/20/2016 12:00:30 AM</td>\n",
       "      <td>12254.705078</td>\n",
       "      <td>0.840978</td>\n",
       "      <td>38541.804688</td>\n",
       "      <td>30.5</td>\n",
       "      <td>100.0</td>\n",
       "      <td>30.0</td>\n",
       "      <td>0.0</td>\n",
       "      <td>...</td>\n",
       "      <td>9.773479</td>\n",
       "      <td>9.755747</td>\n",
       "      <td>0.965457</td>\n",
       "      <td>42.561581</td>\n",
       "      <td>3.255860</td>\n",
       "      <td>2.631529</td>\n",
       "      <td>0.0</td>\n",
       "      <td>-0.869427</td>\n",
       "      <td>636125364300000000</td>\n",
       "      <td>0</td>\n",
       "    </tr>\n",
       "  </tbody>\n",
       "</table>\n",
       "<p>2 rows × 51 columns</p>\n",
       "</div>"
      ],
      "text/plain": [
       "   Id  hackathon4               TimeStamp  21-FQI-10518-01.NetRate.PV (BPD)  \\\n",
       "0   1  hackathon4  10/20/2016 12:00:00 AM                      11546.126953   \n",
       "1   2  hackathon4  10/20/2016 12:00:30 AM                      12254.705078   \n",
       "\n",
       "   21-FT-40518-03_Density_(Coriolis) (g/cc)  \\\n",
       "0                                  0.840992   \n",
       "1                                  0.840978   \n",
       "\n",
       "   21-FT-40518-03_Gross_Volume_Flow_Rate_(Coriolis) (bbl/d)  \\\n",
       "0                                       39545.699219          \n",
       "1                                       38541.804688          \n",
       "\n",
       "   21-HY-10535.OUT_Flowline_Lchr/Rcvr_To_Prod_Sep (%)  \\\n",
       "0                                               30.5    \n",
       "1                                               30.5    \n",
       "\n",
       "   21-HY-40534.OUT_Test_Separator_Inlet (%)  \\\n",
       "0                                     100.0   \n",
       "1                                     100.0   \n",
       "\n",
       "   21-LIC-10516.SP_Prod_Sep_Oil_Out_To_2nd_Stg_Sep (%)  \\\n",
       "0                                               30.0     \n",
       "1                                               30.0     \n",
       "\n",
       "   21-LIC-10620.CV_2nd_Stg_Hydrocyclone_Wtr_Out (%)      ...       \\\n",
       "0                                               0.0      ...        \n",
       "1                                               0.0      ...        \n",
       "\n",
       "   30-PDT-19104-01.PV_2nd_Stg_Hydrocyclone_Out_To_Drn (PSID)  \\\n",
       "0                                           9.768112           \n",
       "1                                           9.773479           \n",
       "\n",
       "   30-PDT-19104-02.PV_2nd_Stg_Hydrocyclone_To_Skimmer (PSID)  \\\n",
       "0                                           9.703619           \n",
       "1                                           9.755747           \n",
       "\n",
       "   30-PDT-19104.PV_2nd_Stg_Hydrocyclone_Out_To_Drn_Diff_Press_Ratio (PSID)  \\\n",
       "0                                           0.965848                         \n",
       "1                                           0.965457                         \n",
       "\n",
       "   30-PDY-19104.OUT_2nd_Stg_Prod_Hydrocyclone_Out (%)  \\\n",
       "0                                          42.564075    \n",
       "1                                          42.561581    \n",
       "\n",
       "   30-PT-69503.PV_Flotation_Cell (PSIG)  30-PT-69512.PV (psig)  \\\n",
       "0                              3.296184               2.667331   \n",
       "1                              3.255860               2.631529   \n",
       "\n",
       "   30-PY-69503.OUT_Flotation_Cell_Out_To_LP_Flare (%)  \\\n",
       "0                                                0.0    \n",
       "1                                                0.0    \n",
       "\n",
       "   37-PT-62301.PV_Closed_Smp_Tk_Pmp_Disch_To_Sep (PSIG)        PIIntTSTicks  \\\n",
       "0                                          -1.208175     636125364000000000   \n",
       "1                                          -0.869427     636125364300000000   \n",
       "\n",
       "   PIIntShapeID  \n",
       "0             0  \n",
       "1             0  \n",
       "\n",
       "[2 rows x 51 columns]"
      ]
     },
     "execution_count": 5,
     "metadata": {},
     "output_type": "execute_result"
    }
   ],
   "source": [
    "df1.head(2)"
   ]
  },
  {
   "cell_type": "code",
   "execution_count": 6,
   "metadata": {
    "collapsed": true
   },
   "outputs": [],
   "source": [
    "#drop useless columns\n",
    "df1.drop(labels=['Id', 'hackathon4'], axis=1, inplace=True)\n"
   ]
  },
  {
   "cell_type": "code",
   "execution_count": 7,
   "metadata": {},
   "outputs": [
    {
     "data": {
      "text/plain": [
       "['TimeStamp',\n",
       " '21-FQI-10518-01.NetRate.PV (BPD)',\n",
       " '21-FT-40518-03_Density_(Coriolis) (g/cc)',\n",
       " '21-FT-40518-03_Gross_Volume_Flow_Rate_(Coriolis) (bbl/d)',\n",
       " '21-HY-10535.OUT_Flowline_Lchr/Rcvr_To_Prod_Sep (%)',\n",
       " '21-HY-40534.OUT_Test_Separator_Inlet (%)',\n",
       " '21-LIC-10516.SP_Prod_Sep_Oil_Out_To_2nd_Stg_Sep (%)',\n",
       " '21-LIC-10620.CV_2nd_Stg_Hydrocyclone_Wtr_Out (%)',\n",
       " '21-LIC-10620.SP_2nd_Stg_Hydrocyclone_Wtr_Out (%)',\n",
       " '21-LIC-40516.SP_Test_Allocation_Sep_Interface (%)',\n",
       " '21-LT-10515.PV_Prod_Sep_Oil_Interface_Level (%)',\n",
       " '21-LT-10516.PV_Prod_Sep_Oil_Interface_Level (%)',\n",
       " '21-LT-10618.PV_Prod_Sep_2nd_Stg_Interface (%)',\n",
       " '21-LT-10620.PV_Prod_Sep_2nd_Stg_Interface (%)',\n",
       " '21-LT-40515.PV_Test_Allocation_Sep_Interface (%)',\n",
       " '21-LT-40516.PV_Test_Allocation_Sep_Interface (%)',\n",
       " '21-LY-10516.OUT_Prod_Sep_Oil_Out_To_2nd_Stg_Sep (%)',\n",
       " '21-LY-10616.OUT_Prod_Sep_2nd_Stg_Fluid_To_Exch (%)',\n",
       " '21-LY-10620.OUT_2nd_Stg_Hydrocyclone_Wtr_Out (%)',\n",
       " '21-LY-11516.OUT_Train_1_Treater_Wtr_Interface_Level (%)',\n",
       " '21-LY-40516.OUT (%)',\n",
       " '21-PT-10505.PV_Production_Separator (PSIG)',\n",
       " '21-PT-10605.PV_Prod_Sep_2nd_Stg (PSIG)',\n",
       " '21-PT-40505.PV_Test_Allocation_Separator (PSIG)',\n",
       " '21-TT-10508.PV_Prod_Sep_Gas_Out_To_Flash_Clr (Deg.F)',\n",
       " '21-TT-10608.PV_Prod_Sep_2nd_Stg_Gas_Out (Deg.F)',\n",
       " '21-TT-11616.PV_Crude_Oil_Trim_Heat_Outlet (Deg.F)',\n",
       " '30-FT-19107-01.PV_2nd_Stg_Hydrocyclone_Inlet (BPD)',\n",
       " '30-FT-19108.PV ( )',\n",
       " '30-FT-29108.PV (BPD)',\n",
       " '30-FT-69521-01.PV_Flotation_Cell_Prod_Wtr_To_Ovbrd (BPD)',\n",
       " '30-LIC-69516.CV_Flotation_Cell_Out_To_Drn (%)',\n",
       " '30-LIC-69518.CV_Flotation_Cell_Prod_Wtr_To_Ovbrd (%)',\n",
       " '30-LT-69514.PV_Flotation_Cell (%)',\n",
       " '30-LT-69515.PV_Flotation_Cell (%)',\n",
       " '30-LT-69516.PV_Flotation_Cell (%)',\n",
       " '30-LT-69518.PV_Flotation_Cell (%)',\n",
       " '30-LY-69518.OUT_Flotation_Cell_Prod_Wtr_To_Ovbrd (%)',\n",
       " '30-PDIC-19104.SP_2nd_Stg_Prod_Hydrocyclone_Out ( )',\n",
       " '30-PDT-19104-01.PV_2nd_Stg_Hydrocyclone_Out_To_Drn (PSID)',\n",
       " '30-PDT-19104-02.PV_2nd_Stg_Hydrocyclone_To_Skimmer (PSID)',\n",
       " '30-PDT-19104.PV_2nd_Stg_Hydrocyclone_Out_To_Drn_Diff_Press_Ratio (PSID)',\n",
       " '30-PDY-19104.OUT_2nd_Stg_Prod_Hydrocyclone_Out (%)',\n",
       " '30-PT-69503.PV_Flotation_Cell (PSIG)',\n",
       " '30-PT-69512.PV (psig)',\n",
       " '30-PY-69503.OUT_Flotation_Cell_Out_To_LP_Flare (%)',\n",
       " '37-PT-62301.PV_Closed_Smp_Tk_Pmp_Disch_To_Sep (PSIG)',\n",
       " 'PIIntTSTicks',\n",
       " 'PIIntShapeID']"
      ]
     },
     "execution_count": 7,
     "metadata": {},
     "output_type": "execute_result"
    }
   ],
   "source": [
    "colnames = list(df1)\n",
    "colnames"
   ]
  },
  {
   "cell_type": "code",
   "execution_count": 8,
   "metadata": {},
   "outputs": [
    {
     "name": "stdout",
     "output_type": "stream",
     "text": [
      "null_count:\n",
      " TimeStamp                                                                  0\n",
      "21-FQI-10518-01.NetRate.PV (BPD)                                           0\n",
      "21-FT-40518-03_Density_(Coriolis) (g/cc)                                   0\n",
      "21-FT-40518-03_Gross_Volume_Flow_Rate_(Coriolis) (bbl/d)                   0\n",
      "21-HY-10535.OUT_Flowline_Lchr/Rcvr_To_Prod_Sep (%)                         0\n",
      "21-HY-40534.OUT_Test_Separator_Inlet (%)                                   0\n",
      "21-LIC-10516.SP_Prod_Sep_Oil_Out_To_2nd_Stg_Sep (%)                        0\n",
      "21-LIC-10620.CV_2nd_Stg_Hydrocyclone_Wtr_Out (%)                           0\n",
      "21-LIC-10620.SP_2nd_Stg_Hydrocyclone_Wtr_Out (%)                           0\n",
      "21-LIC-40516.SP_Test_Allocation_Sep_Interface (%)                          0\n",
      "21-LT-10515.PV_Prod_Sep_Oil_Interface_Level (%)                            0\n",
      "21-LT-10516.PV_Prod_Sep_Oil_Interface_Level (%)                            0\n",
      "21-LT-10618.PV_Prod_Sep_2nd_Stg_Interface (%)                              0\n",
      "21-LT-10620.PV_Prod_Sep_2nd_Stg_Interface (%)                              0\n",
      "21-LT-40515.PV_Test_Allocation_Sep_Interface (%)                           0\n",
      "21-LT-40516.PV_Test_Allocation_Sep_Interface (%)                           0\n",
      "21-LY-10516.OUT_Prod_Sep_Oil_Out_To_2nd_Stg_Sep (%)                        0\n",
      "21-LY-10616.OUT_Prod_Sep_2nd_Stg_Fluid_To_Exch (%)                         0\n",
      "21-LY-10620.OUT_2nd_Stg_Hydrocyclone_Wtr_Out (%)                           0\n",
      "21-LY-11516.OUT_Train_1_Treater_Wtr_Interface_Level (%)                    0\n",
      "21-LY-40516.OUT (%)                                                        0\n",
      "21-PT-10505.PV_Production_Separator (PSIG)                                 0\n",
      "21-PT-10605.PV_Prod_Sep_2nd_Stg (PSIG)                                     0\n",
      "21-PT-40505.PV_Test_Allocation_Separator (PSIG)                            0\n",
      "21-TT-10508.PV_Prod_Sep_Gas_Out_To_Flash_Clr (Deg.F)                       0\n",
      "21-TT-10608.PV_Prod_Sep_2nd_Stg_Gas_Out (Deg.F)                            0\n",
      "21-TT-11616.PV_Crude_Oil_Trim_Heat_Outlet (Deg.F)                          0\n",
      "30-FT-19107-01.PV_2nd_Stg_Hydrocyclone_Inlet (BPD)                         0\n",
      "30-FT-19108.PV ( )                                                         0\n",
      "30-FT-29108.PV (BPD)                                                       0\n",
      "30-FT-69521-01.PV_Flotation_Cell_Prod_Wtr_To_Ovbrd (BPD)                   0\n",
      "30-LIC-69516.CV_Flotation_Cell_Out_To_Drn (%)                              0\n",
      "30-LIC-69518.CV_Flotation_Cell_Prod_Wtr_To_Ovbrd (%)                       0\n",
      "30-LT-69514.PV_Flotation_Cell (%)                                          0\n",
      "30-LT-69515.PV_Flotation_Cell (%)                                          0\n",
      "30-LT-69516.PV_Flotation_Cell (%)                                          0\n",
      "30-LT-69518.PV_Flotation_Cell (%)                                          0\n",
      "30-LY-69518.OUT_Flotation_Cell_Prod_Wtr_To_Ovbrd (%)                       0\n",
      "30-PDIC-19104.SP_2nd_Stg_Prod_Hydrocyclone_Out ( )                         0\n",
      "30-PDT-19104-01.PV_2nd_Stg_Hydrocyclone_Out_To_Drn (PSID)                  0\n",
      "30-PDT-19104-02.PV_2nd_Stg_Hydrocyclone_To_Skimmer (PSID)                  0\n",
      "30-PDT-19104.PV_2nd_Stg_Hydrocyclone_Out_To_Drn_Diff_Press_Ratio (PSID)    0\n",
      "30-PDY-19104.OUT_2nd_Stg_Prod_Hydrocyclone_Out (%)                         0\n",
      "30-PT-69503.PV_Flotation_Cell (PSIG)                                       0\n",
      "30-PT-69512.PV (psig)                                                      0\n",
      "30-PY-69503.OUT_Flotation_Cell_Out_To_LP_Flare (%)                         0\n",
      "37-PT-62301.PV_Closed_Smp_Tk_Pmp_Disch_To_Sep (PSIG)                       0\n",
      "PIIntTSTicks                                                               0\n",
      "PIIntShapeID                                                               0\n",
      "dtype: int64\n",
      "total nulls: 0\n"
     ]
    }
   ],
   "source": [
    "null_count = df1.isnull().sum()\n",
    "print (\"null_count:\\n\", null_count)\n",
    "print (\"total nulls:\", null_count.sum())\n"
   ]
  },
  {
   "cell_type": "code",
   "execution_count": 9,
   "metadata": {},
   "outputs": [
    {
     "data": {
      "text/plain": [
       "MinMaxScaler(copy=True, feature_range=(0, 1))"
      ]
     },
     "execution_count": 9,
     "metadata": {},
     "output_type": "execute_result"
    }
   ],
   "source": [
    "scaler = MinMaxScaler()\n",
    "scaler.fit(df1.drop('TimeStamp', axis=1))"
   ]
  },
  {
   "cell_type": "code",
   "execution_count": 10,
   "metadata": {},
   "outputs": [
    {
     "name": "stdout",
     "output_type": "stream",
     "text": [
      "[  6.66650625e+04   1.01531756e+00   6.61894219e+04   1.00000000e+02\n",
      "   1.00000000e+02   3.80000000e+01   9.90348358e+01   3.60000000e+01\n",
      "   4.29518929e+01   3.37044029e+01   5.62449341e+01   3.64300957e+01\n",
      "   3.78628235e+01   3.79433136e+01   9.05934677e+01   1.00000000e+02\n",
      "   8.77980804e+01   1.00000000e+02   1.00000000e+02   9.99838562e+01\n",
      "   2.58994171e+02   9.66163864e+01   3.35658356e+02   8.51994934e+01\n",
      "   1.33930298e+02   3.61046722e+02   2.57655371e+04   1.29114766e+04\n",
      "   1.30321758e+04   3.86455078e+04   1.00000000e+02   1.00000000e+02\n",
      "   1.03639557e+02   1.01777435e+02   1.00011322e+02   9.79960632e+01\n",
      "   1.00000000e+02   2.31133628e+00   5.22168121e+01   5.89051323e+01\n",
      "   1.98852715e+04   1.00000000e+02   6.08647079e+01   9.64643707e+01\n",
      "   1.00000000e+02   1.78930649e+02   6.36266196e+17   0.00000000e+00]\n"
     ]
    }
   ],
   "source": [
    "print(scaler.data_max_)"
   ]
  },
  {
   "cell_type": "code",
   "execution_count": 11,
   "metadata": {},
   "outputs": [],
   "source": [
    "scaled_df1 = scaler.transform(df1.drop('TimeStamp', axis=1))"
   ]
  },
  {
   "cell_type": "code",
   "execution_count": 19,
   "metadata": {},
   "outputs": [
    {
     "name": "stdout",
     "output_type": "stream",
     "text": [
      "['21-FQI-10518-01.NetRate.PV (BPD)', '21-FT-40518-03_Density_(Coriolis) (g/cc)', '21-FT-40518-03_Gross_Volume_Flow_Rate_(Coriolis) (bbl/d)', '21-HY-10535.OUT_Flowline_Lchr/Rcvr_To_Prod_Sep (%)', '21-HY-40534.OUT_Test_Separator_Inlet (%)']\n"
     ]
    },
    {
     "data": {
      "image/png": "[encoded data removed]",
      "text/plain": [
       "<matplotlib.figure.Figure at 0x29620a95860>"
      ]
     },
     "metadata": {},
     "output_type": "display_data"
    }
   ],
   "source": [
    "# basic plot\n",
    "print (colnames[1:6])\n",
    "plt.boxplot(scaled_df1[:, 0:10], labels=colnames[1:11])\n",
    "plt.xticks(rotation=90)\n",
    "rcParams['figure.figsize'] = 15, 10\n",
    "plt.show()"
   ]
  },
  {
   "cell_type": "markdown",
   "metadata": {},
   "source": [
    "21-PT-10505.PV_Production_Separator (PSIG)  \n",
    "21-PT-40505.PV_Test_Allocation_Separator (PSIG)   \n",
    "21-HY-40534.OUT_Test_Separator_Inlet (%)\n",
    "\n",
    "Background – Separation Upset Dates \n",
    "October 26, 2016\n",
    "November 11, 2016\n",
    "November 16, 2016\n",
    "November 27, 2016\n",
    "January 28, 2017 \n",
    "March 12, 2017\n",
    "\n",
    "\n",
    "flowrate typ 3-4 ft/s ? check"
   ]
  },
  {
   "cell_type": "code",
   "execution_count": 20,
   "metadata": {},
   "outputs": [
    {
     "data": {
      "text/plain": [
       "TimeStamp                                                                   object\n",
       "21-FQI-10518-01.NetRate.PV (BPD)                                           float64\n",
       "21-FT-40518-03_Density_(Coriolis) (g/cc)                                   float64\n",
       "21-FT-40518-03_Gross_Volume_Flow_Rate_(Coriolis) (bbl/d)                   float64\n",
       "21-HY-10535.OUT_Flowline_Lchr/Rcvr_To_Prod_Sep (%)                         float64\n",
       "21-HY-40534.OUT_Test_Separator_Inlet (%)                                   float64\n",
       "21-LIC-10516.SP_Prod_Sep_Oil_Out_To_2nd_Stg_Sep (%)                        float64\n",
       "21-LIC-10620.CV_2nd_Stg_Hydrocyclone_Wtr_Out (%)                           float64\n",
       "21-LIC-10620.SP_2nd_Stg_Hydrocyclone_Wtr_Out (%)                           float64\n",
       "21-LIC-40516.SP_Test_Allocation_Sep_Interface (%)                          float64\n",
       "21-LT-10515.PV_Prod_Sep_Oil_Interface_Level (%)                            float64\n",
       "21-LT-10516.PV_Prod_Sep_Oil_Interface_Level (%)                            float64\n",
       "21-LT-10618.PV_Prod_Sep_2nd_Stg_Interface (%)                              float64\n",
       "21-LT-10620.PV_Prod_Sep_2nd_Stg_Interface (%)                              float64\n",
       "21-LT-40515.PV_Test_Allocation_Sep_Interface (%)                           float64\n",
       "21-LT-40516.PV_Test_Allocation_Sep_Interface (%)                           float64\n",
       "21-LY-10516.OUT_Prod_Sep_Oil_Out_To_2nd_Stg_Sep (%)                        float64\n",
       "21-LY-10616.OUT_Prod_Sep_2nd_Stg_Fluid_To_Exch (%)                         float64\n",
       "21-LY-10620.OUT_2nd_Stg_Hydrocyclone_Wtr_Out (%)                           float64\n",
       "21-LY-11516.OUT_Train_1_Treater_Wtr_Interface_Level (%)                    float64\n",
       "21-LY-40516.OUT (%)                                                        float64\n",
       "21-PT-10505.PV_Production_Separator (PSIG)                                 float64\n",
       "21-PT-10605.PV_Prod_Sep_2nd_Stg (PSIG)                                     float64\n",
       "21-PT-40505.PV_Test_Allocation_Separator (PSIG)                            float64\n",
       "21-TT-10508.PV_Prod_Sep_Gas_Out_To_Flash_Clr (Deg.F)                       float64\n",
       "21-TT-10608.PV_Prod_Sep_2nd_Stg_Gas_Out (Deg.F)                            float64\n",
       "21-TT-11616.PV_Crude_Oil_Trim_Heat_Outlet (Deg.F)                          float64\n",
       "30-FT-19107-01.PV_2nd_Stg_Hydrocyclone_Inlet (BPD)                         float64\n",
       "30-FT-19108.PV ( )                                                         float64\n",
       "30-FT-29108.PV (BPD)                                                       float64\n",
       "30-FT-69521-01.PV_Flotation_Cell_Prod_Wtr_To_Ovbrd (BPD)                   float64\n",
       "30-LIC-69516.CV_Flotation_Cell_Out_To_Drn (%)                              float64\n",
       "30-LIC-69518.CV_Flotation_Cell_Prod_Wtr_To_Ovbrd (%)                       float64\n",
       "30-LT-69514.PV_Flotation_Cell (%)                                          float64\n",
       "30-LT-69515.PV_Flotation_Cell (%)                                          float64\n",
       "30-LT-69516.PV_Flotation_Cell (%)                                          float64\n",
       "30-LT-69518.PV_Flotation_Cell (%)                                          float64\n",
       "30-LY-69518.OUT_Flotation_Cell_Prod_Wtr_To_Ovbrd (%)                       float64\n",
       "30-PDIC-19104.SP_2nd_Stg_Prod_Hydrocyclone_Out ( )                         float64\n",
       "30-PDT-19104-01.PV_2nd_Stg_Hydrocyclone_Out_To_Drn (PSID)                  float64\n",
       "30-PDT-19104-02.PV_2nd_Stg_Hydrocyclone_To_Skimmer (PSID)                  float64\n",
       "30-PDT-19104.PV_2nd_Stg_Hydrocyclone_Out_To_Drn_Diff_Press_Ratio (PSID)    float64\n",
       "30-PDY-19104.OUT_2nd_Stg_Prod_Hydrocyclone_Out (%)                         float64\n",
       "30-PT-69503.PV_Flotation_Cell (PSIG)                                       float64\n",
       "30-PT-69512.PV (psig)                                                      float64\n",
       "30-PY-69503.OUT_Flotation_Cell_Out_To_LP_Flare (%)                         float64\n",
       "37-PT-62301.PV_Closed_Smp_Tk_Pmp_Disch_To_Sep (PSIG)                       float64\n",
       "PIIntTSTicks                                                                 int64\n",
       "PIIntShapeID                                                                 int64\n",
       "dtype: object"
      ]
     },
     "execution_count": 20,
     "metadata": {},
     "output_type": "execute_result"
    }
   ],
   "source": [
    "df1.dtypes"
   ]
  },
  {
   "cell_type": "code",
   "execution_count": 22,
   "metadata": {},
   "outputs": [
    {
     "data": {
      "text/plain": [
       "('10/20/2016 12:00:00 AM', str)"
      ]
     },
     "execution_count": 22,
     "metadata": {},
     "output_type": "execute_result"
    }
   ],
   "source": [
    "df1['TimeStamp'].iloc[0], type(df1['TimeStamp'].iloc[0])"
   ]
  },
  {
   "cell_type": "code",
   "execution_count": 50,
   "metadata": {},
   "outputs": [
    {
     "name": "stdout",
     "output_type": "stream",
     "text": [
      "2016-10-20 00:04:05\n"
     ]
    }
   ],
   "source": [
    "import datetime\n",
    "print (datetime.datetime.strptime('10/20/2016 12:04:05 AM', \"%m/%d/%Y %I:%M:%S %p\"))\n"
   ]
  },
  {
   "cell_type": "code",
   "execution_count": 53,
   "metadata": {},
   "outputs": [],
   "source": [
    "df1['TimeStamp_'] = pd.to_datetime(df1['TimeStamp'])"
   ]
  },
  {
   "cell_type": "code",
   "execution_count": 54,
   "metadata": {},
   "outputs": [
    {
     "data": {
      "text/plain": [
       "TimeStamp                                                                          object\n",
       "21-FQI-10518-01.NetRate.PV (BPD)                                                  float64\n",
       "21-FT-40518-03_Density_(Coriolis) (g/cc)                                          float64\n",
       "21-FT-40518-03_Gross_Volume_Flow_Rate_(Coriolis) (bbl/d)                          float64\n",
       "21-HY-10535.OUT_Flowline_Lchr/Rcvr_To_Prod_Sep (%)                                float64\n",
       "21-HY-40534.OUT_Test_Separator_Inlet (%)                                          float64\n",
       "21-LIC-10516.SP_Prod_Sep_Oil_Out_To_2nd_Stg_Sep (%)                               float64\n",
       "21-LIC-10620.CV_2nd_Stg_Hydrocyclone_Wtr_Out (%)                                  float64\n",
       "21-LIC-10620.SP_2nd_Stg_Hydrocyclone_Wtr_Out (%)                                  float64\n",
       "21-LIC-40516.SP_Test_Allocation_Sep_Interface (%)                                 float64\n",
       "21-LT-10515.PV_Prod_Sep_Oil_Interface_Level (%)                                   float64\n",
       "21-LT-10516.PV_Prod_Sep_Oil_Interface_Level (%)                                   float64\n",
       "21-LT-10618.PV_Prod_Sep_2nd_Stg_Interface (%)                                     float64\n",
       "21-LT-10620.PV_Prod_Sep_2nd_Stg_Interface (%)                                     float64\n",
       "21-LT-40515.PV_Test_Allocation_Sep_Interface (%)                                  float64\n",
       "21-LT-40516.PV_Test_Allocation_Sep_Interface (%)                                  float64\n",
       "21-LY-10516.OUT_Prod_Sep_Oil_Out_To_2nd_Stg_Sep (%)                               float64\n",
       "21-LY-10616.OUT_Prod_Sep_2nd_Stg_Fluid_To_Exch (%)                                float64\n",
       "21-LY-10620.OUT_2nd_Stg_Hydrocyclone_Wtr_Out (%)                                  float64\n",
       "21-LY-11516.OUT_Train_1_Treater_Wtr_Interface_Level (%)                           float64\n",
       "21-LY-40516.OUT (%)                                                               float64\n",
       "21-PT-10505.PV_Production_Separator (PSIG)                                        float64\n",
       "21-PT-10605.PV_Prod_Sep_2nd_Stg (PSIG)                                            float64\n",
       "21-PT-40505.PV_Test_Allocation_Separator (PSIG)                                   float64\n",
       "21-TT-10508.PV_Prod_Sep_Gas_Out_To_Flash_Clr (Deg.F)                              float64\n",
       "21-TT-10608.PV_Prod_Sep_2nd_Stg_Gas_Out (Deg.F)                                   float64\n",
       "21-TT-11616.PV_Crude_Oil_Trim_Heat_Outlet (Deg.F)                                 float64\n",
       "30-FT-19107-01.PV_2nd_Stg_Hydrocyclone_Inlet (BPD)                                float64\n",
       "30-FT-19108.PV ( )                                                                float64\n",
       "30-FT-29108.PV (BPD)                                                              float64\n",
       "30-FT-69521-01.PV_Flotation_Cell_Prod_Wtr_To_Ovbrd (BPD)                          float64\n",
       "30-LIC-69516.CV_Flotation_Cell_Out_To_Drn (%)                                     float64\n",
       "30-LIC-69518.CV_Flotation_Cell_Prod_Wtr_To_Ovbrd (%)                              float64\n",
       "30-LT-69514.PV_Flotation_Cell (%)                                                 float64\n",
       "30-LT-69515.PV_Flotation_Cell (%)                                                 float64\n",
       "30-LT-69516.PV_Flotation_Cell (%)                                                 float64\n",
       "30-LT-69518.PV_Flotation_Cell (%)                                                 float64\n",
       "30-LY-69518.OUT_Flotation_Cell_Prod_Wtr_To_Ovbrd (%)                              float64\n",
       "30-PDIC-19104.SP_2nd_Stg_Prod_Hydrocyclone_Out ( )                                float64\n",
       "30-PDT-19104-01.PV_2nd_Stg_Hydrocyclone_Out_To_Drn (PSID)                         float64\n",
       "30-PDT-19104-02.PV_2nd_Stg_Hydrocyclone_To_Skimmer (PSID)                         float64\n",
       "30-PDT-19104.PV_2nd_Stg_Hydrocyclone_Out_To_Drn_Diff_Press_Ratio (PSID)           float64\n",
       "30-PDY-19104.OUT_2nd_Stg_Prod_Hydrocyclone_Out (%)                                float64\n",
       "30-PT-69503.PV_Flotation_Cell (PSIG)                                              float64\n",
       "30-PT-69512.PV (psig)                                                             float64\n",
       "30-PY-69503.OUT_Flotation_Cell_Out_To_LP_Flare (%)                                float64\n",
       "37-PT-62301.PV_Closed_Smp_Tk_Pmp_Disch_To_Sep (PSIG)                              float64\n",
       "PIIntTSTicks                                                                        int64\n",
       "PIIntShapeID                                                                        int64\n",
       "TimeStamp_                                                                 datetime64[ns]\n",
       "dtype: object"
      ]
     },
     "execution_count": 54,
     "metadata": {},
     "output_type": "execute_result"
    }
   ],
   "source": [
    "df1.dtypes"
   ]
  },
  {
   "cell_type": "code",
   "execution_count": 56,
   "metadata": {},
   "outputs": [
    {
     "data": {
      "text/plain": [
       "(pandas._libs.tslib.Timestamp, Timestamp('2016-10-20 00:00:00'))"
      ]
     },
     "execution_count": 56,
     "metadata": {},
     "output_type": "execute_result"
    }
   ],
   "source": [
    "type(df1['TimeStamp_'].iloc[0]), df1['TimeStamp_'].iloc[0]"
   ]
  },
  {
   "cell_type": "code",
   "execution_count": 57,
   "metadata": {
    "collapsed": true
   },
   "outputs": [],
   "source": [
    "#Background – Separation Upset Dates \n",
    "#October 26, 2016\n",
    "start_date = '2016-10-25'\n",
    "end_date = '2016-10-27'"
   ]
  },
  {
   "cell_type": "code",
   "execution_count": 60,
   "metadata": {},
   "outputs": [],
   "source": [
    "mask = (df1['TimeStamp_'] > start_date) & (df1['TimeStamp_'] <= end_date)"
   ]
  },
  {
   "cell_type": "code",
   "execution_count": 61,
   "metadata": {},
   "outputs": [
    {
     "data": {
      "text/plain": [
       "(5760, 50)"
      ]
     },
     "execution_count": 61,
     "metadata": {},
     "output_type": "execute_result"
    }
   ],
   "source": [
    "df_incident = df1.loc[mask]\n",
    "df_incident.shape"
   ]
  },
  {
   "cell_type": "code",
   "execution_count": 69,
   "metadata": {},
   "outputs": [
    {
     "data": {
      "text/plain": [
       "['TimeStamp',\n",
       " '21-FQI-10518-01.NetRate.PV (BPD)',\n",
       " '21-FT-40518-03_Density_(Coriolis) (g/cc)',\n",
       " '21-FT-40518-03_Gross_Volume_Flow_Rate_(Coriolis) (bbl/d)',\n",
       " '21-HY-10535.OUT_Flowline_Lchr/Rcvr_To_Prod_Sep (%)',\n",
       " '21-HY-40534.OUT_Test_Separator_Inlet (%)',\n",
       " '21-LIC-10516.SP_Prod_Sep_Oil_Out_To_2nd_Stg_Sep (%)',\n",
       " '21-LIC-10620.CV_2nd_Stg_Hydrocyclone_Wtr_Out (%)',\n",
       " '21-LIC-10620.SP_2nd_Stg_Hydrocyclone_Wtr_Out (%)',\n",
       " '21-LIC-40516.SP_Test_Allocation_Sep_Interface (%)',\n",
       " '21-LT-10515.PV_Prod_Sep_Oil_Interface_Level (%)',\n",
       " '21-LT-10516.PV_Prod_Sep_Oil_Interface_Level (%)',\n",
       " '21-LT-10618.PV_Prod_Sep_2nd_Stg_Interface (%)',\n",
       " '21-LT-10620.PV_Prod_Sep_2nd_Stg_Interface (%)',\n",
       " '21-LT-40515.PV_Test_Allocation_Sep_Interface (%)',\n",
       " '21-LT-40516.PV_Test_Allocation_Sep_Interface (%)',\n",
       " '21-LY-10516.OUT_Prod_Sep_Oil_Out_To_2nd_Stg_Sep (%)',\n",
       " '21-LY-10616.OUT_Prod_Sep_2nd_Stg_Fluid_To_Exch (%)',\n",
       " '21-LY-10620.OUT_2nd_Stg_Hydrocyclone_Wtr_Out (%)',\n",
       " '21-LY-11516.OUT_Train_1_Treater_Wtr_Interface_Level (%)',\n",
       " '21-LY-40516.OUT (%)',\n",
       " '21-PT-10505.PV_Production_Separator (PSIG)',\n",
       " '21-PT-10605.PV_Prod_Sep_2nd_Stg (PSIG)',\n",
       " '21-PT-40505.PV_Test_Allocation_Separator (PSIG)',\n",
       " '21-TT-10508.PV_Prod_Sep_Gas_Out_To_Flash_Clr (Deg.F)',\n",
       " '21-TT-10608.PV_Prod_Sep_2nd_Stg_Gas_Out (Deg.F)',\n",
       " '21-TT-11616.PV_Crude_Oil_Trim_Heat_Outlet (Deg.F)',\n",
       " '30-FT-19107-01.PV_2nd_Stg_Hydrocyclone_Inlet (BPD)',\n",
       " '30-FT-19108.PV ( )',\n",
       " '30-FT-29108.PV (BPD)',\n",
       " '30-FT-69521-01.PV_Flotation_Cell_Prod_Wtr_To_Ovbrd (BPD)',\n",
       " '30-LIC-69516.CV_Flotation_Cell_Out_To_Drn (%)',\n",
       " '30-LIC-69518.CV_Flotation_Cell_Prod_Wtr_To_Ovbrd (%)',\n",
       " '30-LT-69514.PV_Flotation_Cell (%)',\n",
       " '30-LT-69515.PV_Flotation_Cell (%)',\n",
       " '30-LT-69516.PV_Flotation_Cell (%)',\n",
       " '30-LT-69518.PV_Flotation_Cell (%)',\n",
       " '30-LY-69518.OUT_Flotation_Cell_Prod_Wtr_To_Ovbrd (%)',\n",
       " '30-PDIC-19104.SP_2nd_Stg_Prod_Hydrocyclone_Out ( )',\n",
       " '30-PDT-19104-01.PV_2nd_Stg_Hydrocyclone_Out_To_Drn (PSID)',\n",
       " '30-PDT-19104-02.PV_2nd_Stg_Hydrocyclone_To_Skimmer (PSID)',\n",
       " '30-PDT-19104.PV_2nd_Stg_Hydrocyclone_Out_To_Drn_Diff_Press_Ratio (PSID)',\n",
       " '30-PDY-19104.OUT_2nd_Stg_Prod_Hydrocyclone_Out (%)',\n",
       " '30-PT-69503.PV_Flotation_Cell (PSIG)',\n",
       " '30-PT-69512.PV (psig)',\n",
       " '30-PY-69503.OUT_Flotation_Cell_Out_To_LP_Flare (%)',\n",
       " '37-PT-62301.PV_Closed_Smp_Tk_Pmp_Disch_To_Sep (PSIG)',\n",
       " 'PIIntTSTicks',\n",
       " 'PIIntShapeID',\n",
       " 'TimeStamp_']"
      ]
     },
     "execution_count": 69,
     "metadata": {},
     "output_type": "execute_result"
    }
   ],
   "source": [
    "list(df_incident)"
   ]
  },
  {
   "cell_type": "code",
   "execution_count": 62,
   "metadata": {
    "collapsed": true
   },
   "outputs": [],
   "source": [
    "cols_to_show = ['21-PT-10505.PV_Production_Separator (PSIG)', \n",
    "                '21-PT-40505.PV_Test_Allocation_Separator (PSIG)', \n",
    "                '21-HY-40534.OUT_Test_Separator_Inlet (%)']\n"
   ]
  },
  {
   "cell_type": "code",
   "execution_count": 66,
   "metadata": {},
   "outputs": [
    {
     "data": {
      "text/plain": [
       "(pandas.core.frame.DataFrame, (5760, 3))"
      ]
     },
     "execution_count": 66,
     "metadata": {},
     "output_type": "execute_result"
    }
   ],
   "source": [
    "type(df_incident[cols_to_show]), df_incident[cols_to_show].shape"
   ]
  },
  {
   "cell_type": "code",
   "execution_count": 76,
   "metadata": {},
   "outputs": [
    {
     "data": {
      "text/plain": [
       "14401    4.873896\n",
       "14402    4.873896\n",
       "14403    4.873896\n",
       "14404    4.873896\n",
       "Name: 21-PT-10505.PV_Production_Separator (PSIG), dtype: float64"
      ]
     },
     "execution_count": 76,
     "metadata": {},
     "output_type": "execute_result"
    }
   ],
   "source": [
    "df_incident['21-PT-10505.PV_Production_Separator (PSIG)'].head(4)"
   ]
  },
  {
   "cell_type": "code",
   "execution_count": 77,
   "metadata": {},
   "outputs": [
    {
     "data": {
      "text/plain": [
       "14401   2016-10-25 00:00:30\n",
       "14402   2016-10-25 00:01:00\n",
       "14403   2016-10-25 00:01:30\n",
       "14404   2016-10-25 00:02:00\n",
       "Name: TimeStamp_, dtype: datetime64[ns]"
      ]
     },
     "execution_count": 77,
     "metadata": {},
     "output_type": "execute_result"
    }
   ],
   "source": [
    "df_incident['TimeStamp_'].head(4)\n"
   ]
  },
  {
   "cell_type": "code",
   "execution_count": 78,
   "metadata": {},
   "outputs": [
    {
     "data": {
      "text/html": [
       "<div>\n",
       "<style scoped>\n",
       "    .dataframe tbody tr th:only-of-type {\n",
       "        vertical-align: middle;\n",
       "    }\n",
       "\n",
       "    .dataframe tbody tr th {\n",
       "        vertical-align: top;\n",
       "    }\n",
       "\n",
       "    .dataframe thead th {\n",
       "        text-align: right;\n",
       "    }\n",
       "</style>\n",
       "<table border=\"1\" class=\"dataframe\">\n",
       "  <thead>\n",
       "    <tr style=\"text-align: right;\">\n",
       "      <th></th>\n",
       "      <th>21-PT-10505.PV_Production_Separator (PSIG)</th>\n",
       "      <th>TimeStamp_</th>\n",
       "    </tr>\n",
       "  </thead>\n",
       "  <tbody>\n",
       "    <tr>\n",
       "      <th>14401</th>\n",
       "      <td>4.873896</td>\n",
       "      <td>2016-10-25 00:00:30</td>\n",
       "    </tr>\n",
       "    <tr>\n",
       "      <th>14402</th>\n",
       "      <td>4.873896</td>\n",
       "      <td>2016-10-25 00:01:00</td>\n",
       "    </tr>\n",
       "    <tr>\n",
       "      <th>14403</th>\n",
       "      <td>4.873896</td>\n",
       "      <td>2016-10-25 00:01:30</td>\n",
       "    </tr>\n",
       "    <tr>\n",
       "      <th>14404</th>\n",
       "      <td>4.873896</td>\n",
       "      <td>2016-10-25 00:02:00</td>\n",
       "    </tr>\n",
       "  </tbody>\n",
       "</table>\n",
       "</div>"
      ],
      "text/plain": [
       "       21-PT-10505.PV_Production_Separator (PSIG)          TimeStamp_\n",
       "14401                                    4.873896 2016-10-25 00:00:30\n",
       "14402                                    4.873896 2016-10-25 00:01:00\n",
       "14403                                    4.873896 2016-10-25 00:01:30\n",
       "14404                                    4.873896 2016-10-25 00:02:00"
      ]
     },
     "execution_count": 78,
     "metadata": {},
     "output_type": "execute_result"
    }
   ],
   "source": [
    "df_incident[['21-PT-10505.PV_Production_Separator (PSIG)', 'TimeStamp_']].head(4)"
   ]
  },
  {
   "cell_type": "code",
   "execution_count": 91,
   "metadata": {
    "scrolled": true
   },
   "outputs": [
    {
     "data": {
      "image/png": "[encoded data removed]",
      "text/plain": [
       "<matplotlib.figure.Figure at 0x2961fec9278>"
      ]
     },
     "metadata": {},
     "output_type": "display_data"
    }
   ],
   "source": [
    "#plt.boxplot(df_incident['21-PT-10505.PV_Production_Separator (PSIG)'].values)\n",
    "plt.plot_date(df_incident['TimeStamp_'], df_incident['21-PT-10505.PV_Production_Separator (PSIG)'])\n",
    "plt.xticks(rotation=90)\n",
    "rcParams['figure.figsize'] = 15, 10\n",
    "plt.show()"
   ]
  },
  {
   "cell_type": "code",
   "execution_count": null,
   "metadata": {
    "collapsed": true
   },
   "outputs": [],
   "source": []
  }
 ],
 "metadata": {
  "kernelspec": {
   "display_name": "Python 3",
   "language": "python",
   "name": "python3"
  },
  "language_info": {
   "codemirror_mode": {
    "name": "ipython",
    "version": 3
   },
   "file_extension": ".py",
   "mimetype": "text/x-python",
   "name": "python",
   "nbconvert_exporter": "python",
   "pygments_lexer": "ipython3",
   "version": "3.6.1"
  }
 },
 "nbformat": 4,
 "nbformat_minor": 2
}
