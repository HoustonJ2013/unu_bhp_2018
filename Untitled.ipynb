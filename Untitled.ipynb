{
 "cells": [
  {
   "cell_type": "code",
   "execution_count": 1,
   "metadata": {},
   "outputs": [
    {
     "name": "stdout",
     "output_type": "stream",
     "text": [
      "            0         1         2       date\n",
      "153  0.814524  0.696550  0.305075 2000-06-02\n",
      "154  0.395106  0.700591  0.188360 2000-06-03\n",
      "155  0.706065  0.520464  0.199366 2000-06-04\n",
      "156  0.935430  0.916821  0.131337 2000-06-05\n",
      "157  0.383268  0.239059  0.233248 2000-06-06\n",
      "158  0.597492  0.173624  0.017422 2000-06-07\n",
      "159  0.397711  0.137278  0.540594 2000-06-08\n",
      "160  0.166322  0.950675  0.166404 2000-06-09\n",
      "161  0.872171  0.949394  0.798386 2000-06-10\n"
     ]
    }
   ],
   "source": [
    "import numpy as np\n",
    "import pandas as pd\n",
    "\n",
    "df = pd.DataFrame(np.random.random((200,3)))\n",
    "df['date'] = pd.date_range('2000-1-1', periods=200, freq='D')\n",
    "mask = (df['date'] > '2000-6-1') & (df['date'] <= '2000-6-10')\n",
    "print(df.loc[mask])"
   ]
  },
  {
   "cell_type": "code",
   "execution_count": 2,
   "metadata": {},
   "outputs": [
    {
     "data": {
      "text/plain": [
       "0              float64\n",
       "1              float64\n",
       "2              float64\n",
       "date    datetime64[ns]\n",
       "dtype: object"
      ]
     },
     "execution_count": 2,
     "metadata": {},
     "output_type": "execute_result"
    }
   ],
   "source": [
    "df.dtypes"
   ]
  },
  {
   "cell_type": "code",
   "execution_count": 3,
   "metadata": {},
   "outputs": [
    {
     "data": {
      "text/plain": [
       "[0, 1, 2, 'date']"
      ]
     },
     "execution_count": 3,
     "metadata": {},
     "output_type": "execute_result"
    }
   ],
   "source": [
    "list(df)"
   ]
  },
  {
   "cell_type": "code",
   "execution_count": null,
   "metadata": {
    "collapsed": true
   },
   "outputs": [],
   "source": []
  }
 ],
 "metadata": {
  "kernelspec": {
   "display_name": "Python 3",
   "language": "python",
   "name": "python3"
  },
  "language_info": {
   "codemirror_mode": {
    "name": "ipython",
    "version": 3
   },
   "file_extension": ".py",
   "mimetype": "text/x-python",
   "name": "python",
   "nbconvert_exporter": "python",
   "pygments_lexer": "ipython3",
   "version": "3.6.1"
  }
 },
 "nbformat": 4,
 "nbformat_minor": 2
}
